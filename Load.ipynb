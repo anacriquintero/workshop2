{
 "cells": [
  {
   "cell_type": "code",
   "execution_count": 2,
   "metadata": {},
   "outputs": [],
   "source": [
    "import pandas as pd\n",
    "import seaborn as sns\n",
    "import matplotlib.pyplot as plt\n",
    "import sys\n",
    "sys.path.append('src')\n",
    "import db_connection\n",
    "import numpy as np\n",
    "\n",
    "def load_to_postgres(df:pd.DataFrame)->None:\n",
    "    df.to_sql(\"merge\", if_exists=\"replace\", index_label=\"id\")\n",
    "    con = db_connection.conn()\n",
    "    df = pd.read_csv(\"Data/merge.csv\")\n",
    "    df.to_sql(\"merge\", con = con, if_exists=\"replace\", index_label=\"id\")"
   ]
  }
 ],
 "metadata": {
  "kernelspec": {
   "display_name": "venv",
   "language": "python",
   "name": "venv"
  },
  "language_info": {
   "codemirror_mode": {
    "name": "ipython",
    "version": 3
   },
   "file_extension": ".py",
   "mimetype": "text/x-python",
   "name": "python",
   "nbconvert_exporter": "python",
   "pygments_lexer": "ipython3",
   "version": "3.12.3"
  }
 },
 "nbformat": 4,
 "nbformat_minor": 2
}
